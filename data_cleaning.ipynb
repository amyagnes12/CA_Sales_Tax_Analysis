{
 "cells": [
  {
   "cell_type": "code",
   "execution_count": 1,
   "id": "f9570db2",
   "metadata": {},
   "outputs": [],
   "source": [
    "import pandas as pd"
   ]
  },
  {
   "cell_type": "code",
   "execution_count": 2,
   "id": "d0f9848a",
   "metadata": {},
   "outputs": [],
   "source": [
    "csv_path = \"Data/1Q2020.csv\"\n",
    "twenty_df = pd.read_csv(csv_path)\n",
    "twenty_df['City'] = twenty_df['City'].str.replace('[*]','',regex=True)\n",
    "twenty_df.sort_values(by=['City'])\n",
    "twenty_df.to_csv('Data/2020.csv', index=False) "
   ]
  },
  {
   "cell_type": "code",
   "execution_count": 3,
   "id": "6c40e84c",
   "metadata": {},
   "outputs": [],
   "source": [
    "csv_path = \"Data/1Q2021.csv\"\n",
    "twentyone_df = pd.read_csv(csv_path)\n",
    "twentyone_df['City'] = twentyone_df['City'].str.replace('[*]','',regex=True)\n",
    "twentyone_df.sort_values(by=['City'])\n",
    "twentyone_df.to_csv('Data/2021.csv', index=False) "
   ]
  },
  {
   "cell_type": "code",
   "execution_count": 4,
   "id": "5d57bfe9",
   "metadata": {},
   "outputs": [],
   "source": [
    "csv_path = \"Data/1Q2022.csv\"\n",
    "twentytwo_df = pd.read_csv(csv_path)\n",
    "twentytwo_df['City'] = twentytwo_df['City'].str.replace('[*]','',regex=True)\n",
    "twentytwo_df.sort_values(by=['City'])\n",
    "twentytwo_df.to_csv('Data/2022.csv', index=False) "
   ]
  },
  {
   "cell_type": "code",
   "execution_count": null,
   "id": "5e296187",
   "metadata": {},
   "outputs": [],
   "source": []
  },
  {
   "cell_type": "code",
   "execution_count": null,
   "id": "ba15e105",
   "metadata": {},
   "outputs": [],
   "source": []
  },
  {
   "cell_type": "code",
   "execution_count": null,
   "id": "46fa63e4",
   "metadata": {},
   "outputs": [],
   "source": []
  }
 ],
 "metadata": {
  "kernelspec": {
   "display_name": "Python 3 (ipykernel)",
   "language": "python",
   "name": "python3"
  },
  "language_info": {
   "codemirror_mode": {
    "name": "ipython",
    "version": 3
   },
   "file_extension": ".py",
   "mimetype": "text/x-python",
   "name": "python",
   "nbconvert_exporter": "python",
   "pygments_lexer": "ipython3",
   "version": "3.9.7"
  }
 },
 "nbformat": 4,
 "nbformat_minor": 5
}
